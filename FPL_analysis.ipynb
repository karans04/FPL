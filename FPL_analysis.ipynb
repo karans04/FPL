{
 "cells": [
  {
   "cell_type": "code",
   "execution_count": 18,
   "metadata": {},
   "outputs": [],
   "source": [
    "import os \n",
    "import pandas as pd\n",
    "import numpy as np \n",
    "import matplotlib.pyplot as plt"
   ]
  },
  {
   "cell_type": "code",
   "execution_count": 102,
   "metadata": {},
   "outputs": [],
   "source": [
    "# unpack season data\n",
    "def unpack_season(year_fp,current):\n",
    "    gw_data = {}\n",
    "    players = {}\n",
    "    \n",
    "    data = {}\n",
    "    \n",
    "    player_id_list_fp = os.path.join(year_fp, 'player_idlist.csv')\n",
    "    players_raw_fp = os.path.join(year_fp, 'players_raw.csv')\n",
    "    cleaned_players_fp = os.path.join(year_fp,'cleaned_players.csv')\n",
    "    gw_data_fp = os.path.join(year_fp, 'gws')\n",
    "    players_fp = os.path.join(year_fp, 'players')\n",
    "    \n",
    "    season = 'season-' + year_fp.split('/')[1][2:].replace('-','') + '.csv'\n",
    "    season_fp = os.path.join(year_fp, season)\n",
    "    \n",
    "    \n",
    "    player_id_list = pd.read_csv(player_id_list_fp)\n",
    "    data['player_id_list'] = player_id_list\n",
    "    \n",
    "    players_raw = pd.read_csv(players_raw_fp)\n",
    "    data['players_raw'] = players_raw\n",
    "    \n",
    "    cleaned_players = pd.read_csv(cleaned_players_fp, encoding = \"ISO-8859-1\")\n",
    "    data['cleaned_players'] = cleaned_players\n",
    "    \n",
    "    if year_fp.split('/')[1] != current:\n",
    "        current_season = pd.read_csv(season_fp)\n",
    "        data['current_season'] = current_season\n",
    "        \n",
    "        for file in os.listdir(gw_data_fp):\n",
    "            filename = os.fsdecode(file)\n",
    "            key_val = filename.split('.')[0]\n",
    "            gw_fp = os.path.join(gw_data_fp,filename)\n",
    "            try:\n",
    "                gw_data[key_val] = pd.read_csv(gw_fp, encoding = \"ISO-8859-1\")\n",
    "            except:\n",
    "                continue\n",
    "                \n",
    "        data['gw_data'] = gw_data\n",
    "    else:\n",
    "        fixtures_fp = os.path.join('data', current, 'fixtures.csv')\n",
    "        data['fixtures'] = pd.read_csv(fixtures_fp)\n",
    "        \n",
    "        teams_fp = os.path.join('data', current, 'teams.csv')\n",
    "        data['teams'] = teams_fp\n",
    "                \n",
    "        \n",
    "    \n",
    "    for file in os.listdir(players_fp):\n",
    "        player_gw_fp = os.path.join(players_fp, file, 'gw.csv')\n",
    "        player_history_fp = os.path.join(players_fp,file,'history.csv')\n",
    "        players[file] = {}\n",
    "        try:\n",
    "            player_gw = pd.read_csv(player_gw_fp)\n",
    "            players[file]['player_gw'] = player_gw\n",
    "        except:\n",
    "            continue\n",
    "        try:\n",
    "            player_history = pd.read_csv(player_history_fp)\n",
    "            players[file]['players_history'] = player_history \n",
    "        except:\n",
    "            continue\n",
    "    data['players'] = players\n",
    "    \n",
    "\n",
    "    \n",
    "    \n",
    "    return data"
   ]
  },
  {
   "cell_type": "code",
   "execution_count": 103,
   "metadata": {},
   "outputs": [],
   "source": [
    "def get_all_seasons(current):\n",
    "    seasons = {}\n",
    "    for file in os.listdir('data'):\n",
    "        season_fp = os.path.join('data', file)\n",
    "        seasons[file] = unpack_season(season_fp, current)\n",
    "            \n",
    "    return seasons "
   ]
  },
  {
   "cell_type": "code",
   "execution_count": 104,
   "metadata": {},
   "outputs": [],
   "source": [
    "seasons = get_all_seasons('2019-20')"
   ]
  },
  {
   "cell_type": "code",
   "execution_count": null,
   "metadata": {},
   "outputs": [],
   "source": []
  }
 ],
 "metadata": {
  "kernelspec": {
   "display_name": "Python 3",
   "language": "python",
   "name": "python3"
  }
 },
 "nbformat": 4,
 "nbformat_minor": 2
}
